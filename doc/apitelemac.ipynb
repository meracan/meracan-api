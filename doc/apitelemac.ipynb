{
 "cells": [
  {
   "cell_type": "markdown",
   "metadata": {},
   "source": [
    "# ApiTelemac"
   ]
  },
  {
   "cell_type": "markdown",
   "metadata": {},
   "source": [
    "Telemac wrapper to run telemac and upload/download files to/from s3/dynamodb"
   ]
  },
  {
   "cell_type": "code",
   "execution_count": 1,
   "metadata": {},
   "outputs": [
    {
     "name": "stdout",
     "output_type": "stream",
     "text": [
      "\n",
      "  Class to download/upload telemac files to aws\n",
      "  \n",
      "  Parameters\n",
      "  ----------\n",
      "  TableCas:str,optional\n",
      "  TableData:str,optional\n",
      "  BucketName:str,optional\n",
      "  projectId:str,optional\n",
      "  localFolder:str,optional\n",
      "  \n",
      "  Examples\n",
      "  --------\n",
      "  \n",
      "  \n",
      "  \n"
     ]
    }
   ],
   "source": [
    "from meracanapi import ApiTelemac\n",
    "print(ApiTelemac.__doc__)"
   ]
  },
  {
   "cell_type": "code",
   "execution_count": 2,
   "metadata": {},
   "outputs": [],
   "source": [
    "api=ApiTelemac(TableCas=\"TestTableCas\",TableData=\"TestTableData\",BucketName=\"mercantest\",localFolder=\"/home/ec2-user/environment/meracan-api/test/output\")"
   ]
  },
  {
   "cell_type": "markdown",
   "metadata": {},
   "source": [
    "### upload(Filename)"
   ]
  },
  {
   "cell_type": "code",
   "execution_count": 3,
   "metadata": {},
   "outputs": [
    {
     "name": "stdout",
     "output_type": "stream",
     "text": [
      "\n",
      "  Class to download/upload telemac files to aws\n",
      "  \n",
      "  Parameters\n",
      "  ----------\n",
      "  TableCas:str,optional\n",
      "  TableData:str,optional\n",
      "  BucketName:str,optional\n",
      "  projectId:str,optional\n",
      "  localFolder:str,optional\n",
      "  \n",
      "  Examples\n",
      "  --------\n",
      "  \n",
      "  \n",
      "  \n"
     ]
    }
   ],
   "source": [
    "print(ApiTelemac.__doc__)"
   ]
  },
  {
   "cell_type": "code",
   "execution_count": 4,
   "metadata": {},
   "outputs": [],
   "source": [
    "study=api.upload(Filename='/home/ec2-user/environment/meracan-api/test/data/telemac2d/confluence/t2d_confluence.cas')"
   ]
  },
  {
   "cell_type": "markdown",
   "metadata": {},
   "source": [
    "### insert(keywords)"
   ]
  },
  {
   "cell_type": "code",
   "execution_count": 5,
   "metadata": {},
   "outputs": [
    {
     "name": "stdout",
     "output_type": "stream",
     "text": [
      "\n",
      "    Insert cas keywords to DynamoDB\n",
      "    \n",
      "    Parameters\n",
      "    ----------\n",
      "    keywords:dict\n",
      "      Telemac keywords and values\n",
      "    \n"
     ]
    }
   ],
   "source": [
    "print(ApiTelemac.insert.__doc__)"
   ]
  },
  {
   "cell_type": "code",
   "execution_count": 6,
   "metadata": {},
   "outputs": [
    {
     "name": "stdout",
     "output_type": "stream",
     "text": [
      "{'projectId': 'general', 'name': 'default', 'keywords': {'TITLE': 'example1'}, 'module': 'telemac2d', 'id': 'ebadf3df-5376-43ef-b33f-5199966df72d', 'createdAt': 1587329634933, 'updatedAt': 1587329634933}\n"
     ]
    }
   ],
   "source": [
    "item=api.insert(keywords={\"TITLE\":\"example1\"})\n",
    "print(item)"
   ]
  },
  {
   "cell_type": "markdown",
   "metadata": {},
   "source": [
    "### update(id,keywords)"
   ]
  },
  {
   "cell_type": "code",
   "execution_count": 7,
   "metadata": {},
   "outputs": [
    {
     "name": "stdout",
     "output_type": "stream",
     "text": [
      "\n",
      "    Update as keywords to DynamoDB\n",
      "    \n",
      "    Parameters\n",
      "    ----------\n",
      "    keywords:dict\n",
      "      Telemac keywords and values\n",
      "    kwargs:dict\n",
      "      id:str\n",
      "        DynamoDB Id\n",
      "    \n"
     ]
    }
   ],
   "source": [
    "print(ApiTelemac.update.__doc__)"
   ]
  },
  {
   "cell_type": "code",
   "execution_count": 8,
   "metadata": {},
   "outputs": [
    {
     "name": "stdout",
     "output_type": "stream",
     "text": [
      "{'projectId': 'general', 'updatedAt': 1587329637139, 'keywords': {'TIME STEP': 10, 'TITLE': 'example1'}, 'createdAt': 1587329634933, 'id': 'ebadf3df-5376-43ef-b33f-5199966df72d', 'module': 'telemac2d', 'name': 'default'}\n"
     ]
    }
   ],
   "source": [
    "item=api.update(id=item['id'],keywords={\"TIME STEP\":10})\n",
    "print(item)"
   ]
  },
  {
   "cell_type": "markdown",
   "metadata": {},
   "source": [
    "### uploadFile(id,keyword,Filename)"
   ]
  },
  {
   "cell_type": "code",
   "execution_count": 9,
   "metadata": {},
   "outputs": [
    {
     "name": "stdout",
     "output_type": "stream",
     "text": [
      " \n",
      "    Upload file to S3 and add item in dynamodb\n",
      "    \n",
      "    Parameters\n",
      "    ----------\n",
      "    Filename: str\n",
      "      Path of local file\n",
      "    Prefix:str,optional\n",
      "      S3 folder\n",
      "    projectId:str\n",
      "      Meta data\n",
      "    kwargs:dict\n",
      "      id:str\n",
      "        To update file and item\n",
      "    \n"
     ]
    }
   ],
   "source": [
    "print(ApiTelemac.uploadFile.__doc__)"
   ]
  },
  {
   "cell_type": "code",
   "execution_count": 10,
   "metadata": {},
   "outputs": [
    {
     "name": "stdout",
     "output_type": "stream",
     "text": [
      "{'name': 'dummy', 'projectId': 'general', 'type': 'lqd', 'ObjectKey': 'a0f8b5d8-9972-4037-8252-a53dd511b9ec', 'casId': 'ebadf3df-5376-43ef-b33f-5199966df72d', 'id': 'f7f86cb6-657a-490e-a0ad-d8717fc316ec', 'createdAt': 1587329637248, 'updatedAt': 1587329637248}\n"
     ]
    }
   ],
   "source": [
    "lqd=api.uploadFile(id=item['id'],keyword=\"LIQUID BOUNDARIES FILE\",Filename='/home/ec2-user/environment/meracan-api/test/data/telemac2d/confluence/dummy.lqd')\n",
    "print(lqd)\n"
   ]
  },
  {
   "cell_type": "markdown",
   "metadata": {},
   "source": [
    "### addFortran(id,Filename)"
   ]
  },
  {
   "cell_type": "code",
   "execution_count": 11,
   "metadata": {},
   "outputs": [
    {
     "name": "stdout",
     "output_type": "stream",
     "text": [
      " \n",
      "    Add fortran to cas\n",
      "    \n",
      "    Parameters\n",
      "    ----------\n",
      "    kwargs:dict\n",
      "      Filename:str\n",
      "      id:str,\n",
      "        CasId\n",
      "    \n"
     ]
    }
   ],
   "source": [
    "print(ApiTelemac.addFortran.__doc__)"
   ]
  },
  {
   "cell_type": "code",
   "execution_count": 12,
   "metadata": {},
   "outputs": [
    {
     "name": "stdout",
     "output_type": "stream",
     "text": [
      "{'name': 'other', 'projectId': 'general', 'type': 'f', 'ObjectKey': '63e7ba26-20b6-4c8f-ab5c-e389609415ea', 'casId': 'ebadf3df-5376-43ef-b33f-5199966df72d', 'id': '053c4a48-9e06-4a59-970f-1793ca62fd97', 'createdAt': 1587329639389, 'updatedAt': 1587329639389}\n"
     ]
    }
   ],
   "source": [
    "f=api.addFortran(id=item['id'],Filename='/home/ec2-user/environment/meracan-api/test/data/telemac2d/confluence/other.f')\n",
    "print(f)"
   ]
  },
  {
   "cell_type": "markdown",
   "metadata": {},
   "source": [
    "### removeFile"
   ]
  },
  {
   "cell_type": "code",
   "execution_count": 13,
   "metadata": {},
   "outputs": [
    {
     "name": "stdout",
     "output_type": "stream",
     "text": [
      " \n",
      "    Delete s3 file and dynamodb item\n",
      "    \n",
      "    Parameters\n",
      "    ----------\n",
      "    kwargs:dict\n",
      "      id:str\n",
      "    \n"
     ]
    }
   ],
   "source": [
    "print(ApiTelemac.removeFile.__doc__)"
   ]
  },
  {
   "cell_type": "code",
   "execution_count": 14,
   "metadata": {},
   "outputs": [
    {
     "data": {
      "text/plain": [
       "True"
      ]
     },
     "execution_count": 14,
     "metadata": {},
     "output_type": "execute_result"
    }
   ],
   "source": [
    "api.removeFile(id=lqd['id'])"
   ]
  },
  {
   "cell_type": "markdown",
   "metadata": {},
   "source": [
    "### rmFortran"
   ]
  },
  {
   "cell_type": "code",
   "execution_count": 15,
   "metadata": {},
   "outputs": [
    {
     "name": "stdout",
     "output_type": "stream",
     "text": [
      " \n",
      "    Remove fortran from cas\n",
      "    \n",
      "    Parameters\n",
      "    ----------\n",
      "    fortranId:str,\n",
      "      File Id\n",
      "    kwargs:dict\n",
      "      id:str,\n",
      "        CasId\n",
      "    \n"
     ]
    }
   ],
   "source": [
    "print(ApiTelemac.rmFortran.__doc__)"
   ]
  },
  {
   "cell_type": "code",
   "execution_count": 16,
   "metadata": {},
   "outputs": [],
   "source": [
    "api.rmFortran(id=item['id'],fortranId=f['id'])"
   ]
  },
  {
   "cell_type": "markdown",
   "metadata": {},
   "source": [
    "### updateProgress (id,iframe,nframe)"
   ]
  },
  {
   "cell_type": "code",
   "execution_count": 17,
   "metadata": {},
   "outputs": [
    {
     "data": {
      "text/plain": [
       "{'iframe': 1,\n",
       " 'projectId': 'general',\n",
       " 'updatedAt': 1587329643624,\n",
       " 'keywords': {'TIME STEP': 10,\n",
       "  'TITLE': 'example1',\n",
       "  'LIQUID BOUNDARIES FILE': 'f7f86cb6-657a-490e-a0ad-d8717fc316ec'},\n",
       " 'createdAt': 1587329634933,\n",
       " 'id': 'ebadf3df-5376-43ef-b33f-5199966df72d',\n",
       " 'module': 'telemac2d',\n",
       " 'name': 'default',\n",
       " 'nframe': 10}"
      ]
     },
     "execution_count": 17,
     "metadata": {},
     "output_type": "execute_result"
    }
   ],
   "source": [
    "api.updateProgress(id=item['id'],iframe=1,nframe=10)"
   ]
  },
  {
   "cell_type": "markdown",
   "metadata": {},
   "source": [
    "### download (id)"
   ]
  },
  {
   "cell_type": "code",
   "execution_count": 18,
   "metadata": {},
   "outputs": [
    {
     "data": {
      "text/plain": [
       "('/home/ec2-user/environment/meracan-api/test/output/t2d_confluence.cas',\n",
       " {'projectId': 'general',\n",
       "  'updatedAt': 1587329632763,\n",
       "  'keywords': {'INITIAL CONDITIONS': 'CONSTANT ELEVATION',\n",
       "   'IMPLICITATION FOR VELOCITY': 1,\n",
       "   'MASS-BALANCE': True,\n",
       "   'SOLVER': 1,\n",
       "   'MASS-LUMPING ON H': 1,\n",
       "   'LISTING PRINTOUT PERIOD': 100,\n",
       "   'SOLVER ACCURACY': 1e-10,\n",
       "   'GEOMETRY FILE': 'geo_confluence.slf',\n",
       "   'TREATMENT OF THE LINEAR SYSTEM': 2,\n",
       "   'INITIAL ELEVATION': 0.2852,\n",
       "   'BOUNDARY CONDITIONS FILE': 'geo_confluence.cli',\n",
       "   'LAW OF BOTTOM FRICTION': 3,\n",
       "   'IMPLICITATION FOR DEPTH': 1,\n",
       "   'PRESCRIBED ELEVATIONS': [0.2852, 0, 0],\n",
       "   'FRICTION COEFFICIENT': 62,\n",
       "   'TIME STEP': 0.1,\n",
       "   'VARIABLES FOR GRAPHIC PRINTOUTS': 'U,V,H,S,B',\n",
       "   'TYPE OF ADVECTION': [1, 5],\n",
       "   'GRAPHIC PRINTOUT PERIOD': 1000,\n",
       "   'PRESCRIBED FLOWRATES': [0, 0.035, 0.07],\n",
       "   'TURBULENCE MODEL': 1,\n",
       "   'NUMBER OF TIME STEPS': 1000,\n",
       "   'RESULTS FILE': 'r2d_confluence.slf',\n",
       "   'TITLE': 'RIVER CONFLUENCE',\n",
       "   'FORTRAN FILE': ['user_q.f'],\n",
       "   'VELOCITY DIFFUSIVITY': 0.001,\n",
       "   'VELOCITY PROFILES': [2, 2, 2]},\n",
       "  'createdAt': 1587329632763,\n",
       "  'module': 'telemac2d',\n",
       "  'id': 'a4d51554-910c-4206-b051-92bb3b3d10e3',\n",
       "  'name': 't2d_confluence'})"
      ]
     },
     "execution_count": 18,
     "metadata": {},
     "output_type": "execute_result"
    }
   ],
   "source": [
    "api.download(id=study['id'])"
   ]
  },
  {
   "cell_type": "markdown",
   "metadata": {},
   "source": [
    "### run (id)"
   ]
  },
  {
   "cell_type": "code",
   "execution_count": 19,
   "metadata": {},
   "outputs": [
    {
     "name": "stdout",
     "output_type": "stream",
     "text": [
      "mpif90 -fPIC -shared -fconvert=big-endian -frecord-marker=4 -lpthread -lm -o libuser_fortran.so user_fortran/user_q.f  -I/home/ec2-user/environment/telemac/v8p1r0/builds/gfortranp/wrap_api/include  -L/home/ec2-user/environment/telemac/v8p1r0/builds/gfortranp/wrap_api/lib -lapi -ltelemac3d -ltelemac2d -lsisyphe -lgaia -lnestor -ltomawac -lartemis -lkhione -lwaqtel -lgretel -lpartel -lbief -lparallel -lhermes -ldamocles -lspecial -L/home/ec2-user/anaconda3/envs/telemac/lib -L/home/ec2-user/environment/telemac/metis/libmetis  -lmetis\n"
     ]
    },
    {
     "ename": "TelemacException",
     "evalue": "Unknown data type b'            ' for MODEL.nvariables",
     "output_type": "error",
     "traceback": [
      "\u001b[0;31m----------------------------------------------------------\u001b[0m",
      "\u001b[0;31mTelemacException\u001b[0m         Traceback (most recent call last)",
      "\u001b[0;32m<ipython-input-19-444ecc0bf37c>\u001b[0m in \u001b[0;36m<module>\u001b[0;34m\u001b[0m\n\u001b[0;32m----> 1\u001b[0;31m \u001b[0mapi\u001b[0m\u001b[0;34m.\u001b[0m\u001b[0mrun\u001b[0m\u001b[0;34m(\u001b[0m\u001b[0mstudy\u001b[0m\u001b[0;34m[\u001b[0m\u001b[0;34m'id'\u001b[0m\u001b[0;34m]\u001b[0m\u001b[0;34m)\u001b[0m\u001b[0;34m\u001b[0m\u001b[0;34m\u001b[0m\u001b[0m\n\u001b[0m",
      "\u001b[0;32m~/environment/meracan-api/meracanapi/apitelemac/apitelemac.py\u001b[0m in \u001b[0;36mrun\u001b[0;34m(self, id, uploadNCA)\u001b[0m\n\u001b[1;32m     43\u001b[0m \u001b[0;34m\u001b[0m\u001b[0m\n\u001b[1;32m     44\u001b[0m     \u001b[0mntimesteps\u001b[0m \u001b[0;34m=\u001b[0m \u001b[0mstudy\u001b[0m\u001b[0;34m.\u001b[0m\u001b[0mget\u001b[0m\u001b[0;34m(\u001b[0m\u001b[0;34m\"MODEL.NTIMESTEPS\"\u001b[0m\u001b[0;34m)\u001b[0m\u001b[0;34m\u001b[0m\u001b[0;34m\u001b[0m\u001b[0m\n\u001b[0;32m---> 45\u001b[0;31m     \u001b[0mnvariables\u001b[0m \u001b[0;34m=\u001b[0m \u001b[0mstudy\u001b[0m\u001b[0;34m.\u001b[0m\u001b[0mget\u001b[0m\u001b[0;34m(\u001b[0m\u001b[0;34m\"MODEL.nvariables\"\u001b[0m\u001b[0;34m)\u001b[0m\u001b[0;34m\u001b[0m\u001b[0;34m\u001b[0m\u001b[0m\n\u001b[0m\u001b[1;32m     46\u001b[0m     \u001b[0milprintout\u001b[0m \u001b[0;34m=\u001b[0m \u001b[0mstudy\u001b[0m\u001b[0;34m.\u001b[0m\u001b[0mcas\u001b[0m\u001b[0;34m.\u001b[0m\u001b[0mvalues\u001b[0m\u001b[0;34m.\u001b[0m\u001b[0mget\u001b[0m\u001b[0;34m(\u001b[0m\u001b[0;34m\"LISTING PRINTOUT PERIOD\"\u001b[0m\u001b[0;34m,\u001b[0m\u001b[0mstudy\u001b[0m\u001b[0;34m.\u001b[0m\u001b[0mcas\u001b[0m\u001b[0;34m.\u001b[0m\u001b[0mdico\u001b[0m\u001b[0;34m.\u001b[0m\u001b[0mdata\u001b[0m\u001b[0;34m[\u001b[0m\u001b[0;34m\"LISTING PRINTOUT PERIOD\"\u001b[0m\u001b[0;34m]\u001b[0m\u001b[0;34m)\u001b[0m\u001b[0;34m\u001b[0m\u001b[0;34m\u001b[0m\u001b[0m\n\u001b[1;32m     47\u001b[0m     \u001b[0migprintout\u001b[0m \u001b[0;34m=\u001b[0m \u001b[0mstudy\u001b[0m\u001b[0;34m.\u001b[0m\u001b[0mcas\u001b[0m\u001b[0;34m.\u001b[0m\u001b[0mvalues\u001b[0m\u001b[0;34m.\u001b[0m\u001b[0mget\u001b[0m\u001b[0;34m(\u001b[0m\u001b[0;34m\"GRAPHIC PRINTOUT PERIOD\"\u001b[0m\u001b[0;34m,\u001b[0m\u001b[0mstudy\u001b[0m\u001b[0;34m.\u001b[0m\u001b[0mcas\u001b[0m\u001b[0;34m.\u001b[0m\u001b[0mdico\u001b[0m\u001b[0;34m.\u001b[0m\u001b[0mdata\u001b[0m\u001b[0;34m[\u001b[0m\u001b[0;34m\"GRAPHIC PRINTOUT PERIOD\"\u001b[0m\u001b[0;34m]\u001b[0m\u001b[0;34m)\u001b[0m\u001b[0;34m\u001b[0m\u001b[0;34m\u001b[0m\u001b[0m\n",
      "\u001b[0;32m~/environment/telemac/v8p1r0/scripts/python3/telapy/api/api_module.py\u001b[0m in \u001b[0;36mget\u001b[0;34m(self, varname, i, j, k, global_num)\u001b[0m\n\u001b[1;32m    614\u001b[0m                                                       i+1, j+1, k+1)\n\u001b[1;32m    615\u001b[0m         \u001b[0;32melse\u001b[0m\u001b[0;34m:\u001b[0m\u001b[0;34m\u001b[0m\u001b[0;34m\u001b[0m\u001b[0m\n\u001b[0;32m--> 616\u001b[0;31m             raise TelemacException(\\\n\u001b[0m\u001b[1;32m    617\u001b[0m                     \"Unknown data type %s for %s\" % (vartype, varname))\n\u001b[1;32m    618\u001b[0m \u001b[0;34m\u001b[0m\u001b[0m\n",
      "\u001b[0;31mTelemacException\u001b[0m: Unknown data type b'            ' for MODEL.nvariables"
     ]
    }
   ],
   "source": [
    "api.run(study['id'])"
   ]
  },
  {
   "cell_type": "code",
   "execution_count": null,
   "metadata": {},
   "outputs": [],
   "source": []
  }
 ],
 "metadata": {
  "kernelspec": {
   "display_name": "Python 3",
   "language": "python",
   "name": "python3"
  },
  "language_info": {
   "codemirror_mode": {
    "name": "ipython",
    "version": 3
   },
   "file_extension": ".py",
   "mimetype": "text/x-python",
   "name": "python",
   "nbconvert_exporter": "python",
   "pygments_lexer": "ipython3",
   "version": "3.8.2"
  }
 },
 "nbformat": 4,
 "nbformat_minor": 4
}
