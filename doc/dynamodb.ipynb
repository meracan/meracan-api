{
 "cells": [
  {
   "cell_type": "markdown",
   "metadata": {},
   "source": [
    "# Dynamodb\n",
    "An python wrapper on top of boto3 to communicate with DynamoDB. It checks parameters, pre- and post-process DynamoDB data to Python data (and vise-versa).\n",
    "To import library:"
   ]
  },
  {
   "cell_type": "code",
   "execution_count": 1,
   "metadata": {},
   "outputs": [],
   "source": [
    "from meracanapi import DynamoDB"
   ]
  },
  {
   "cell_type": "code",
   "execution_count": 2,
   "metadata": {},
   "outputs": [
    {
     "name": "stdout",
     "output_type": "stream",
     "text": [
      "\n",
      "  Parameters\n",
      "  ----------\n",
      "  TableName:str\n",
      "    Name of DynamoDB Table\n",
      "  \n"
     ]
    }
   ],
   "source": [
    "print(DynamoDB.__doc__)"
   ]
  },
  {
   "cell_type": "code",
   "execution_count": 3,
   "metadata": {},
   "outputs": [],
   "source": [
    "dyno=DynamoDB(TableName=\"TestTableCas\")\n",
    "# Clear all items\n",
    "items=dyno.all()\n",
    "for item in items:\n",
    "  dyno.delete(**item)"
   ]
  },
  {
   "cell_type": "markdown",
   "metadata": {},
   "source": [
    "### Insert(**kwagrs)"
   ]
  },
  {
   "cell_type": "code",
   "execution_count": 4,
   "metadata": {},
   "outputs": [
    {
     "name": "stdout",
     "output_type": "stream",
     "text": [
      "\n",
      "    Insert new item in DynamoDB.\n",
      "    \n",
      "    Parameters\n",
      "    ----------\n",
      "    kwargs:object,optional\n",
      "      Item attributes\n",
      "    \n",
      "    Notes\n",
      "    -----\n",
      "    float are automatically transform to decimal.\n",
      "    id,createdAt,updatedAt are automatically created.\n",
      "    \n",
      "    Returns\n",
      "    -------\n",
      "    object:The new item in DynamoDB\n",
      "    \n"
     ]
    }
   ],
   "source": [
    "print(dyno.insert.__doc__)"
   ]
  },
  {
   "cell_type": "code",
   "execution_count": 5,
   "metadata": {},
   "outputs": [
    {
     "name": "stdout",
     "output_type": "stream",
     "text": [
      "{'name': 'TestName1', 'projectId': 'id1', 'other': 'a', 'id': '9a1ea4c0-bca8-47c6-80a4-651be0583b66', 'createdAt': 1587313333277, 'updatedAt': 1587313333277}\n"
     ]
    }
   ],
   "source": [
    "dyno.insert(name=\"TestName1\",projectId=\"id1\",keywords={\"a\":\"value\",\"b\":\"value\"})\n",
    "dyno.insert(name=\"TestName2\",projectId=\"id2\")\n",
    "dyno.insert(name=\"TestName1\",projectId=\"id2\")\n",
    "dyno.insert(name=\"TestName2\",projectId=\"id1\",num=0.1)\n",
    "item=dyno.insert(name=\"TestName1\",projectId=\"id1\",other=\"a\")\n",
    "print(item)"
   ]
  },
  {
   "cell_type": "markdown",
   "metadata": {},
   "source": [
    "### get(id)"
   ]
  },
  {
   "cell_type": "code",
   "execution_count": 6,
   "metadata": {},
   "outputs": [
    {
     "name": "stdout",
     "output_type": "stream",
     "text": [
      " \n",
      "    Get an item in DynamoDB. \n",
      "    Parameters\n",
      "    ----------\n",
      "    TableName:str\n",
      "      Name of DynamoDB Table\n",
      "    id:str,required\n",
      "    \n"
     ]
    }
   ],
   "source": [
    "print(dyno.get.__doc__)"
   ]
  },
  {
   "cell_type": "code",
   "execution_count": 7,
   "metadata": {},
   "outputs": [
    {
     "data": {
      "text/plain": [
       "{'other': 'a',\n",
       " 'projectId': 'id1',\n",
       " 'createdAt': 1587313333277,\n",
       " 'id': '9a1ea4c0-bca8-47c6-80a4-651be0583b66',\n",
       " 'name': 'TestName1',\n",
       " 'updatedAt': 1587313333277}"
      ]
     },
     "execution_count": 7,
     "metadata": {},
     "output_type": "execute_result"
    }
   ],
   "source": [
    "dyno.get(id=item['id'])"
   ]
  },
  {
   "cell_type": "markdown",
   "metadata": {},
   "source": [
    "### all()"
   ]
  },
  {
   "cell_type": "code",
   "execution_count": 8,
   "metadata": {},
   "outputs": [
    {
     "name": "stdout",
     "output_type": "stream",
     "text": [
      " \n",
      "    List all items\n",
      "    \n",
      "    Parameters\n",
      "    ----------\n",
      "    TableName:str\n",
      "      Name of DynamoDB Table\n",
      "    \n"
     ]
    }
   ],
   "source": [
    "print(dyno.all.__doc__)"
   ]
  },
  {
   "cell_type": "code",
   "execution_count": 9,
   "metadata": {},
   "outputs": [
    {
     "data": {
      "text/plain": [
       "[{'projectId': 'id2',\n",
       "  'createdAt': 1587313333257,\n",
       "  'id': 'cdce181c-e4cf-43f8-9f92-2424b374ea47',\n",
       "  'name': 'TestName1',\n",
       "  'updatedAt': 1587313333257},\n",
       " {'projectId': 'id1',\n",
       "  'createdAt': 1587313333267,\n",
       "  'id': 'a94800eb-f943-4cb0-95a5-3c07d874bca1',\n",
       "  'name': 'TestName2',\n",
       "  'updatedAt': 1587313333267,\n",
       "  'num': 0.1},\n",
       " {'keywords': {'a': 'value', 'b': 'value'},\n",
       "  'projectId': 'id1',\n",
       "  'createdAt': 1587313333236,\n",
       "  'id': '6ee0cc54-e629-4491-842e-896de0a2ca96',\n",
       "  'name': 'TestName1',\n",
       "  'updatedAt': 1587313333236},\n",
       " {'projectId': 'id2',\n",
       "  'createdAt': 1587313333248,\n",
       "  'id': '1b32dbd6-0aea-42e5-bc1f-33052c0e7364',\n",
       "  'name': 'TestName2',\n",
       "  'updatedAt': 1587313333248},\n",
       " {'other': 'a',\n",
       "  'projectId': 'id1',\n",
       "  'createdAt': 1587313333277,\n",
       "  'id': '9a1ea4c0-bca8-47c6-80a4-651be0583b66',\n",
       "  'name': 'TestName1',\n",
       "  'updatedAt': 1587313333277}]"
      ]
     },
     "execution_count": 9,
     "metadata": {},
     "output_type": "execute_result"
    }
   ],
   "source": [
    "dyno.all()"
   ]
  },
  {
   "cell_type": "markdown",
   "metadata": {},
   "source": [
    "### query(KeyConditionExpression[,FilterExpression,ProjectionExpression,ExpressionAttributeNames,IndexName])"
   ]
  },
  {
   "cell_type": "code",
   "execution_count": 10,
   "metadata": {},
   "outputs": [
    {
     "name": "stdout",
     "output_type": "stream",
     "text": [
      " \n",
      "    Query/Scan DynamoDB\n",
      "    \n",
      "    Parameters\n",
      "    ----------\n",
      "    KeyConditionExpression:dict or list of dict\n",
      "    FilterExpression:dict or list of dict\n",
      "      dict:\n",
      "        ops:str\n",
      "        Key:str,required/optional\n",
      "        Attr:str,optional/required\n",
      "        con:Key operator (begins_with,between,eq,gt,gte,lt,lte)\n",
      "        con:Attr operator (attribute_type,begins_with,between,contains,exists,is_in,ne,not_exists,size,eq,gt,gte,lt,lte)\n",
      "        value:*\n",
      "    ProjectionExpression:str,\n",
      "    ExpressionAttributeNames=dict,\n",
      "    IndexName:str\n",
      "    \n",
      "    Examples\n",
      "    --------\n",
      "    FilterExpression=[{\"Key\":\"year\",\"con\":\"between\",\"value\":(1950,1959)}]\n",
      "    ProjectionExpression=\"#yr, title, info.rating\"\n",
      "    ExpressionAttributeNames= { \"#yr\": \"year\", }\n",
      "    \n"
     ]
    }
   ],
   "source": [
    "print(dyno.query.__doc__)"
   ]
  },
  {
   "cell_type": "code",
   "execution_count": 11,
   "metadata": {},
   "outputs": [
    {
     "data": {
      "text/plain": [
       "[{'projectId': 'id1',\n",
       "  'other': 'a',\n",
       "  'createdAt': 1587313333277,\n",
       "  'id': '9a1ea4c0-bca8-47c6-80a4-651be0583b66',\n",
       "  'name': 'TestName1',\n",
       "  'updatedAt': 1587313333277}]"
      ]
     },
     "execution_count": 11,
     "metadata": {},
     "output_type": "execute_result"
    }
   ],
   "source": [
    "dyno.query(IndexName='projectIndex',\n",
    "    KeyConditionExpression={'Key':'projectId','con':'eq','value':\"id1\"},\n",
    "    FilterExpression={'Key':'id','con':'eq','value':item['id']}\n",
    "    )"
   ]
  },
  {
   "cell_type": "markdown",
   "metadata": {},
   "source": [
    "### scan(FilterExpression[,ProjectionExpression,ExpressionAttributeNames,IndexName])"
   ]
  },
  {
   "cell_type": "code",
   "execution_count": 12,
   "metadata": {},
   "outputs": [
    {
     "name": "stdout",
     "output_type": "stream",
     "text": [
      " \n",
      "    Query/Scan DynamoDB\n",
      "    \n",
      "    Parameters\n",
      "    ----------\n",
      "    KeyConditionExpression:dict or list of dict\n",
      "    FilterExpression:dict or list of dict\n",
      "      dict:\n",
      "        ops:str\n",
      "        Key:str,required/optional\n",
      "        Attr:str,optional/required\n",
      "        con:Key operator (begins_with,between,eq,gt,gte,lt,lte)\n",
      "        con:Attr operator (attribute_type,begins_with,between,contains,exists,is_in,ne,not_exists,size,eq,gt,gte,lt,lte)\n",
      "        value:*\n",
      "    ProjectionExpression:str,\n",
      "    ExpressionAttributeNames=dict,\n",
      "    IndexName:str\n",
      "    \n",
      "    Examples\n",
      "    --------\n",
      "    FilterExpression=[{\"Key\":\"year\",\"con\":\"between\",\"value\":(1950,1959)}]\n",
      "    ProjectionExpression=\"#yr, title, info.rating\"\n",
      "    ExpressionAttributeNames= { \"#yr\": \"year\", }\n",
      "    \n"
     ]
    }
   ],
   "source": [
    "print(dyno.scan.__doc__)"
   ]
  },
  {
   "cell_type": "code",
   "execution_count": 13,
   "metadata": {},
   "outputs": [
    {
     "data": {
      "text/plain": [
       "[{'projectId': 'id1',\n",
       "  'createdAt': 1587313333267,\n",
       "  'id': 'a94800eb-f943-4cb0-95a5-3c07d874bca1',\n",
       "  'name': 'TestName2',\n",
       "  'updatedAt': 1587313333267,\n",
       "  'num': 0.1},\n",
       " {'projectId': 'id2',\n",
       "  'createdAt': 1587313333248,\n",
       "  'id': '1b32dbd6-0aea-42e5-bc1f-33052c0e7364',\n",
       "  'name': 'TestName2',\n",
       "  'updatedAt': 1587313333248},\n",
       " {'other': 'a',\n",
       "  'projectId': 'id1',\n",
       "  'createdAt': 1587313333277,\n",
       "  'id': '9a1ea4c0-bca8-47c6-80a4-651be0583b66',\n",
       "  'name': 'TestName1',\n",
       "  'updatedAt': 1587313333277}]"
      ]
     },
     "execution_count": 13,
     "metadata": {},
     "output_type": "execute_result"
    }
   ],
   "source": [
    "dyno.scan(FilterExpression=[{'Attr':'name','con':'eq','value':\"TestName2\"},\n",
    "                      {'ops':\"|\",'Attr':'other','con':'eq','value':\"a\"}\n",
    "                     ])"
   ]
  },
  {
   "cell_type": "code",
   "execution_count": 14,
   "metadata": {},
   "outputs": [
    {
     "data": {
      "text/plain": [
       "[{'id': '6ee0cc54-e629-4491-842e-896de0a2ca96',\n",
       "  'keywords': {'a': 'value', 'b': 'value'}}]"
      ]
     },
     "execution_count": 14,
     "metadata": {},
     "output_type": "execute_result"
    }
   ],
   "source": [
    "dyno.scan(FilterExpression=[\n",
    "        {'Attr':'name','con':'eq','value':\"TestName1\"},\n",
    "        {'ops':\"&\",'Attr':'keywords','con':'exists','value':\"a\"}],\n",
    "    ProjectionExpression=\"id, keywords\",\n",
    "    \n",
    "    )"
   ]
  },
  {
   "cell_type": "markdown",
   "metadata": {},
   "source": [
    "### delete(id)"
   ]
  },
  {
   "cell_type": "code",
   "execution_count": 15,
   "metadata": {},
   "outputs": [
    {
     "name": "stdout",
     "output_type": "stream",
     "text": [
      " \n",
      "    Delete item in DynamoDB. \n",
      "    Parameters\n",
      "    ----------\n",
      "    TableName:str\n",
      "      Name of DynamoDB Table\n",
      "    id:str,required\n",
      "    \n"
     ]
    }
   ],
   "source": [
    "print(dyno.delete.__doc__)"
   ]
  },
  {
   "cell_type": "code",
   "execution_count": 16,
   "metadata": {},
   "outputs": [
    {
     "data": {
      "text/plain": [
       "True"
      ]
     },
     "execution_count": 16,
     "metadata": {},
     "output_type": "execute_result"
    }
   ],
   "source": [
    "dyno.delete(id=item['id'])"
   ]
  }
 ],
 "metadata": {
  "kernelspec": {
   "display_name": "Python 3",
   "language": "python",
   "name": "python3"
  },
  "language_info": {
   "codemirror_mode": {
    "name": "ipython",
    "version": 3
   },
   "file_extension": ".py",
   "mimetype": "text/x-python",
   "name": "python",
   "nbconvert_exporter": "python",
   "pygments_lexer": "ipython3",
   "version": "3.8.2"
  }
 },
 "nbformat": 4,
 "nbformat_minor": 4
}
