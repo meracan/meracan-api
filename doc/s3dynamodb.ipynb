{
 "cells": [
  {
   "cell_type": "markdown",
   "metadata": {},
   "source": [
    "# S3Dynamodb¶\n",
    "An python wrapper on top of boto3 to communicate with S3 and DynamoDB. It checks parameters, pre- and post-process DynamoDB data to Python data (and vise-versa). To import library:"
   ]
  },
  {
   "cell_type": "code",
   "execution_count": 1,
   "metadata": {},
   "outputs": [],
   "source": [
    "from meracanapi import S3DynamoDB"
   ]
  },
  {
   "cell_type": "code",
   "execution_count": 2,
   "metadata": {},
   "outputs": [
    {
     "name": "stdout",
     "output_type": "stream",
     "text": [
      "\n",
      "  S3-DynamoDB object\n",
      "  \n",
      "  Parameters\n",
      "  ----------\n",
      "  BucketName:str\n",
      "  TableName:str\n",
      "  \n"
     ]
    }
   ],
   "source": [
    "print(S3DynamoDB.__doc__)"
   ]
  },
  {
   "cell_type": "code",
   "execution_count": 3,
   "metadata": {},
   "outputs": [],
   "source": [
    "s3dyno=S3DynamoDB(BucketName=\"mercantest\",TableName=\"TestTableData\")"
   ]
  },
  {
   "cell_type": "markdown",
   "metadata": {},
   "source": [
    "### upload(Filename)"
   ]
  },
  {
   "cell_type": "code",
   "execution_count": 4,
   "metadata": {},
   "outputs": [
    {
     "name": "stdout",
     "output_type": "stream",
     "text": [
      " \n",
      "    Upload file to S3 and add item in dynamodb\n",
      "    \n",
      "    Parameters\n",
      "    ----------\n",
      "    Filename: str\n",
      "      Path of local file\n",
      "    Prefix:str,optional\n",
      "      S3 folder\n",
      "    projectId:str\n",
      "      Meta data\n",
      "    kwargs:dict\n",
      "      id:str\n",
      "        To update file and item\n",
      "    \n"
     ]
    }
   ],
   "source": [
    "print(S3DynamoDB.upload.__doc__)"
   ]
  },
  {
   "cell_type": "code",
   "execution_count": 5,
   "metadata": {},
   "outputs": [],
   "source": [
    "#Upload\n",
    "item=s3dyno.upload(Filename=\"/home/ec2-user/environment/meracan-api/test/data/test.txt\")"
   ]
  },
  {
   "cell_type": "code",
   "execution_count": 6,
   "metadata": {},
   "outputs": [
    {
     "data": {
      "text/plain": [
       "{'projectId': 'general',\n",
       " 'updatedAt': 1587320416867,\n",
       " 'createdAt': 1587320416778,\n",
       " 'id': 'ff0aca4b-a04e-434d-ad40-e7bb4b6f36ec',\n",
       " 'name': 'test',\n",
       " 'ObjectKey': '4756c427-ac1a-4772-867e-27860dfd2a66',\n",
       " 'type': 'txt'}"
      ]
     },
     "execution_count": 6,
     "metadata": {},
     "output_type": "execute_result"
    }
   ],
   "source": [
    "#Update file\n",
    "s3dyno.upload(Filename=\"/home/ec2-user/environment/meracan-api/test/data/update.txt\",id=item['id'])"
   ]
  },
  {
   "cell_type": "markdown",
   "metadata": {},
   "source": [
    "### download(Filename)"
   ]
  },
  {
   "cell_type": "code",
   "execution_count": 7,
   "metadata": {},
   "outputs": [
    {
     "name": "stdout",
     "output_type": "stream",
     "text": [
      " \n",
      "    Download a file from S3\n",
      "    \n",
      "    Parameters\n",
      "    ----------\n",
      "    Filename: str\n",
      "      Path of new local file\n",
      "    kwargs:dict\n",
      "      id:str\n",
      "      TableName:str\n",
      "    Note\n",
      "    ----\n",
      "    item:object\n",
      "      ObjectKey:str\n",
      "        Key of the file. This is typically a uuidv4 string key.\n",
      "    \n"
     ]
    }
   ],
   "source": [
    "print(S3DynamoDB.download.__doc__)"
   ]
  },
  {
   "cell_type": "code",
   "execution_count": 8,
   "metadata": {},
   "outputs": [
    {
     "data": {
      "text/plain": [
       "'test.1.txt'"
      ]
     },
     "execution_count": 8,
     "metadata": {},
     "output_type": "execute_result"
    }
   ],
   "source": [
    "s3dyno.download(Filename=\"test.1.txt\",id=item['id'])"
   ]
  },
  {
   "cell_type": "code",
   "execution_count": 9,
   "metadata": {},
   "outputs": [
    {
     "data": {
      "text/plain": [
       "'test.txt'"
      ]
     },
     "execution_count": 9,
     "metadata": {},
     "output_type": "execute_result"
    }
   ],
   "source": [
    "s3dyno.download(localFolder=\"\",id=item['id'])"
   ]
  },
  {
   "cell_type": "markdown",
   "metadata": {},
   "source": [
    "### delete(id)"
   ]
  },
  {
   "cell_type": "code",
   "execution_count": 10,
   "metadata": {},
   "outputs": [
    {
     "name": "stdout",
     "output_type": "stream",
     "text": [
      " \n",
      "    Delete s3 file and dynamodb item\n",
      "    \n",
      "    Parameters\n",
      "    ----------\n",
      "    kwargs:dict\n",
      "      id:str\n",
      "    \n"
     ]
    }
   ],
   "source": [
    "print(S3DynamoDB.delete.__doc__)"
   ]
  },
  {
   "cell_type": "code",
   "execution_count": 11,
   "metadata": {},
   "outputs": [
    {
     "data": {
      "text/plain": [
       "True"
      ]
     },
     "execution_count": 11,
     "metadata": {},
     "output_type": "execute_result"
    }
   ],
   "source": [
    "s3dyno.delete(id=item['id'])"
   ]
  }
 ],
 "metadata": {
  "kernelspec": {
   "display_name": "Python 3",
   "language": "python",
   "name": "python3"
  },
  "language_info": {
   "codemirror_mode": {
    "name": "ipython",
    "version": 3
   },
   "file_extension": ".py",
   "mimetype": "text/x-python",
   "name": "python",
   "nbconvert_exporter": "python",
   "pygments_lexer": "ipython3",
   "version": "3.8.2"
  }
 },
 "nbformat": 4,
 "nbformat_minor": 4
}
